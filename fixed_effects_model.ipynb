{
 "cells": [
  {
   "cell_type": "code",
   "execution_count": 55,
   "metadata": {
    "scrolled": true
   },
   "outputs": [],
   "source": [
    "import os;import sys\n",
    "import pandas as pd;import numpy as np;\n",
    "import networkx as nx; \n",
    "from matplotlib import pyplot as plt\n",
    "from scipy.stats import spearmanr\n",
    "from scipy.optimize import minimize \n",
    "from scipy.optimize import LinearConstraint"
   ]
  },
  {
   "cell_type": "code",
   "execution_count": 56,
   "metadata": {},
   "outputs": [
    {
     "name": "stdout",
     "output_type": "stream",
     "text": [
      "Importing Jupyter notebook from model_functions.ipynb\n"
     ]
    }
   ],
   "source": [
    "import nbimporter ; import model_functions as mf ; import importlib as imp ; \n",
    "imp.reload(mf);"
   ]
  },
  {
   "cell_type": "markdown",
   "metadata": {},
   "source": [
    "## IMPORT DATA"
   ]
  },
  {
   "cell_type": "code",
   "execution_count": 42,
   "metadata": {},
   "outputs": [],
   "source": [
    "path=os.getcwd()"
   ]
  },
  {
   "cell_type": "code",
   "execution_count": 43,
   "metadata": {
    "scrolled": true
   },
   "outputs": [],
   "source": [
    "# action_log: a dataframe containing timestamped network edges\n",
    "log = pd.read_csv(path+'/action_log_sample.csv')\n",
    "\n",
    "# group: a dictionary with country:income group key:value pairs\n",
    "group = {row['Country']:row['WB'] for i, row in pd.read_csv(path+'/economy_classifications.csv').iterrows()}\n",
    "\n",
    "# features: a dataframe containing feature variables\n",
    "features = pd.read_csv(path+'/features.csv')"
   ]
  },
  {
   "cell_type": "code",
   "execution_count": 44,
   "metadata": {
    "scrolled": true
   },
   "outputs": [
    {
     "data": {
      "text/html": [
       "<div>\n",
       "<style scoped>\n",
       "    .dataframe tbody tr th:only-of-type {\n",
       "        vertical-align: middle;\n",
       "    }\n",
       "\n",
       "    .dataframe tbody tr th {\n",
       "        vertical-align: top;\n",
       "    }\n",
       "\n",
       "    .dataframe thead th {\n",
       "        text-align: right;\n",
       "    }\n",
       "</style>\n",
       "<table border=\"1\" class=\"dataframe\">\n",
       "  <thead>\n",
       "    <tr style=\"text-align: right;\">\n",
       "      <th></th>\n",
       "      <th>Source</th>\n",
       "      <th>Target</th>\n",
       "      <th>Timestamp</th>\n",
       "      <th>Sector</th>\n",
       "      <th>Funding Type</th>\n",
       "    </tr>\n",
       "  </thead>\n",
       "  <tbody>\n",
       "    <tr>\n",
       "      <th>0</th>\n",
       "      <td>Investor/s 0021</td>\n",
       "      <td>Sri Lanka</td>\n",
       "      <td>2010</td>\n",
       "      <td>Wind</td>\n",
       "      <td>Private</td>\n",
       "    </tr>\n",
       "    <tr>\n",
       "      <th>1</th>\n",
       "      <td>Investor/s 0118</td>\n",
       "      <td>Jordan</td>\n",
       "      <td>2010</td>\n",
       "      <td>Wind</td>\n",
       "      <td>Public</td>\n",
       "    </tr>\n",
       "    <tr>\n",
       "      <th>2</th>\n",
       "      <td>Investor/s 0004</td>\n",
       "      <td>Mauritania</td>\n",
       "      <td>2010</td>\n",
       "      <td>Solar</td>\n",
       "      <td>Public</td>\n",
       "    </tr>\n",
       "  </tbody>\n",
       "</table>\n",
       "</div>"
      ],
      "text/plain": [
       "            Source      Target  Timestamp Sector Funding Type\n",
       "0  Investor/s 0021   Sri Lanka       2010   Wind      Private\n",
       "1  Investor/s 0118      Jordan       2010   Wind       Public\n",
       "2  Investor/s 0004  Mauritania       2010  Solar       Public"
      ]
     },
     "execution_count": 44,
     "metadata": {},
     "output_type": "execute_result"
    }
   ],
   "source": [
    "log.head(3)"
   ]
  },
  {
   "cell_type": "code",
   "execution_count": 45,
   "metadata": {},
   "outputs": [
    {
     "data": {
      "text/html": [
       "<div>\n",
       "<style scoped>\n",
       "    .dataframe tbody tr th:only-of-type {\n",
       "        vertical-align: middle;\n",
       "    }\n",
       "\n",
       "    .dataframe tbody tr th {\n",
       "        vertical-align: top;\n",
       "    }\n",
       "\n",
       "    .dataframe thead th {\n",
       "        text-align: right;\n",
       "    }\n",
       "</style>\n",
       "<table border=\"1\" class=\"dataframe\">\n",
       "  <thead>\n",
       "    <tr style=\"text-align: right;\">\n",
       "      <th></th>\n",
       "      <th>Country</th>\n",
       "      <th>Year</th>\n",
       "      <th>EF</th>\n",
       "      <th>RE %</th>\n",
       "      <th>Elec Access</th>\n",
       "      <th>RISE</th>\n",
       "      <th>ND Vuln</th>\n",
       "      <th>EDB</th>\n",
       "      <th>LogCap Pub</th>\n",
       "      <th>LogCap Pri</th>\n",
       "      <th>LogCap Tot</th>\n",
       "    </tr>\n",
       "  </thead>\n",
       "  <tbody>\n",
       "    <tr>\n",
       "      <th>0</th>\n",
       "      <td>Egypt</td>\n",
       "      <td>2010</td>\n",
       "      <td>0.275204</td>\n",
       "      <td>0.100480</td>\n",
       "      <td>0.990852</td>\n",
       "      <td>0.155844</td>\n",
       "      <td>0.319334</td>\n",
       "      <td>0.461776</td>\n",
       "      <td>6.339654</td>\n",
       "      <td>0.0</td>\n",
       "      <td>6.339654</td>\n",
       "    </tr>\n",
       "    <tr>\n",
       "      <th>1</th>\n",
       "      <td>Egypt</td>\n",
       "      <td>2011</td>\n",
       "      <td>0.279939</td>\n",
       "      <td>0.093268</td>\n",
       "      <td>0.994085</td>\n",
       "      <td>0.155844</td>\n",
       "      <td>0.317404</td>\n",
       "      <td>0.484486</td>\n",
       "      <td>6.894265</td>\n",
       "      <td>0.0</td>\n",
       "      <td>6.894265</td>\n",
       "    </tr>\n",
       "    <tr>\n",
       "      <th>2</th>\n",
       "      <td>Egypt</td>\n",
       "      <td>2012</td>\n",
       "      <td>0.321349</td>\n",
       "      <td>0.088794</td>\n",
       "      <td>0.996760</td>\n",
       "      <td>0.259740</td>\n",
       "      <td>0.305700</td>\n",
       "      <td>0.502654</td>\n",
       "      <td>6.894265</td>\n",
       "      <td>0.0</td>\n",
       "      <td>6.894265</td>\n",
       "    </tr>\n",
       "  </tbody>\n",
       "</table>\n",
       "</div>"
      ],
      "text/plain": [
       "  Country  Year        EF      RE %  Elec Access      RISE   ND Vuln  \\\n",
       "0   Egypt  2010  0.275204  0.100480     0.990852  0.155844  0.319334   \n",
       "1   Egypt  2011  0.279939  0.093268     0.994085  0.155844  0.317404   \n",
       "2   Egypt  2012  0.321349  0.088794     0.996760  0.259740  0.305700   \n",
       "\n",
       "        EDB  LogCap Pub  LogCap Pri  LogCap Tot  \n",
       "0  0.461776    6.339654         0.0    6.339654  \n",
       "1  0.484486    6.894265         0.0    6.894265  \n",
       "2  0.502654    6.894265         0.0    6.894265  "
      ]
     },
     "execution_count": 45,
     "metadata": {},
     "output_type": "execute_result"
    }
   ],
   "source": [
    "features.head(3)"
   ]
  },
  {
   "cell_type": "markdown",
   "metadata": {},
   "source": [
    "# BUILD EMPIRICAL NETWORK"
   ]
  },
  {
   "cell_type": "code",
   "execution_count": 46,
   "metadata": {},
   "outputs": [],
   "source": [
    "# Divide action log into subsets separating public & private investments and a pre- & post-Paris time period\n",
    "\n",
    "# Define sectors & the pre- and post-Paris time range in years\n",
    "sectors = ['Public','Private'] \n",
    "t_ranges = [range(2010,2016),range(2016,2020)] \n",
    "\n",
    "# Initialize dictionaries to store an action log, source nodes (investors) and \n",
    "# target nodes (countries) for each data subset indexed by s (sector) and t (time period)\n",
    "log_st = {s:{} for s in sectors}\n",
    "target_nodes = {s:{} for s in sectors}\n",
    "source_nodes = {s:{} for s in sectors}\n",
    "\n",
    "for t,t_range in enumerate(t_ranges):\n",
    "    for s in sectors:\n",
    "        log_st[s][t] = log.loc[log[['Timestamp','Funding Type']].apply(lambda x: \\\n",
    "                                            (x[0] in t_range) & (x[1]==s), axis=1)]\n",
    "        target_nodes[s][t] = log.loc[(log['Timestamp'].apply(lambda x: x in t_range)) ]['Target'].unique()\n",
    "        source_nodes[s][t] = log.loc[(log['Timestamp'].apply(lambda x: x in t_range)) ]['Source'].unique()"
   ]
  },
  {
   "cell_type": "code",
   "execution_count": 47,
   "metadata": {},
   "outputs": [],
   "source": [
    "# Initialize dictionary to store bipartite graphs \n",
    "B_true = {s:{t:{} for t,t_range in enumerate(t_ranges)} for s in sectors}\n",
    "\n",
    "# Build the graphs from the action logs \n",
    "for t,t_range in enumerate(t_ranges):\n",
    "    for s in sectors:\n",
    "        B_true[s][t] = mf.makeDiGraph(log_st[s][t])\n",
    "        B_true[s][t].add_nodes_from(target_nodes[s][t],bipartite=1)"
   ]
  },
  {
   "cell_type": "code",
   "execution_count": 48,
   "metadata": {},
   "outputs": [],
   "source": [
    "# Create a dictionary storing the distribution of projects across countries i.e. the in-degree of \n",
    "# target nodes\n",
    "true_dist = {s:{t:[B_true[s][t].in_degree[n]  for n in target_nodes[s][t]] \\\n",
    "                for t,t_range in enumerate(t_ranges)} for s in sectors}"
   ]
  },
  {
   "cell_type": "code",
   "execution_count": 49,
   "metadata": {},
   "outputs": [
    {
     "data": {
      "image/png": "[encoded data removed]",
      "text/plain": [
       "<Figure size 864x576 with 4 Axes>"
      ]
     },
     "metadata": {
      "needs_background": "light"
     },
     "output_type": "display_data"
    }
   ],
   "source": [
    "# Plot in-degree distributions\n",
    "nrow, ncol = 2,2\n",
    "fig, ax = plt.subplots(nrow, ncol,figsize=(12,8))\n",
    "for j,t_range in enumerate(t_ranges):\n",
    "    for i,s in enumerate(sectors):\n",
    "        ax[i,j].hist(true_dist[s][j])\n",
    "        ax[i,j].set_title('{}: {}-{}'.format(s,t_range[0],t_range[-1]))"
   ]
  },
  {
   "cell_type": "markdown",
   "metadata": {},
   "source": [
    "## ESTIMATE MODEL PARAMETERS"
   ]
  },
  {
   "cell_type": "code",
   "execution_count": 50,
   "metadata": {},
   "outputs": [],
   "source": [
    "test_features = [['EF'] ,['Elec Access'],['RISE'], ['ND Vuln'],['EDB'], \\\n",
    "                 ['LogCap Pub'], ['LogCap Pri'],['LogCap Tot']]"
   ]
  },
  {
   "cell_type": "code",
   "execution_count": 51,
   "metadata": {},
   "outputs": [],
   "source": [
    "# Initialize dictionary to store results\n",
    "\n",
    "res = {'_'.join(f):{s:{} for s in sectors} for f in test_features}"
   ]
  },
  {
   "cell_type": "code",
   "execution_count": 57,
   "metadata": {
    "scrolled": true
   },
   "outputs": [
    {
     "name": "stdout",
     "output_type": "stream",
     "text": [
      " LogCap Tot Private: 2016 - 2019 \t\t\t\t\t\t\t\t\t"
     ]
    }
   ],
   "source": [
    "for f in test_features:\n",
    "    for s in sectors:\n",
    "        for t,t_range in enumerate(t_ranges):\n",
    "            df_keys = ['Country','Year'] + f\n",
    "            b0 = np.ones(len(f))\n",
    "            sys.stdout.write('\\r {} {}: {} - {} \\t\\t\\t\\t\\t\\t\\t\\t'.format('_'.join(f), s, t_range[0],t_range[-1]))\n",
    "            res['_'.join(f)][s][t] = minimize(lambda b: \\\n",
    "                    -mf.logL(b, log_st[s][t], target_nodes[s][t], features[df_keys], f), b0, method='L-BFGS-B')\n"
   ]
  },
  {
   "cell_type": "markdown",
   "metadata": {},
   "source": [
    "## SIMULATE MODEL"
   ]
  },
  {
   "cell_type": "code",
   "execution_count": 58,
   "metadata": {
    "scrolled": true
   },
   "outputs": [
    {
     "name": "stdout",
     "output_type": "stream",
     "text": [
      " LogCap Tot Private 1 20/20 \t\t\t\t\t\t\t\t\t"
     ]
    }
   ],
   "source": [
    "# Initialize dictionaries to contain N_sim simulated networks, B_sim and simulated edges, edges_sim\n",
    "N_sim = 20\n",
    "B_sim = {'_'.join(f):{s:{t:{} for t,t_range in enumerate(t_ranges)} for s in sectors} \\\n",
    "         for f in test_features}\n",
    "edges_sim = {'_'.join(f):{s:{t:{} for t,t_range in enumerate(t_ranges)} for s in sectors} for f in test_features}\n",
    "\n",
    "# Simulate networks for each model defined by test_features\n",
    "for f in test_features:\n",
    "    for t,t_range in enumerate(t_ranges):\n",
    "        for s in sectors:\n",
    "            for k in range(N_sim): \n",
    "                df_keys = ['Country','Year'] + f \n",
    "                B_sim['_'.join(f)][s][t][k], edges_sim['_'.join(f)][s][t][k] = \\\n",
    "     mf.simGraph(res['_'.join(f)][s][t].x, log_st[s][t], source_nodes[s][t], target_nodes[s][t],\\\n",
    "                                                features[df_keys],f)\n",
    "                sys.stdout.write('\\r {} {} {} {}/{} \\t\\t\\t\\t\\t\\t\\t\\t'.format('_'.join(f), s, t, k+1,N_sim))"
   ]
  },
  {
   "cell_type": "code",
   "execution_count": 59,
   "metadata": {},
   "outputs": [],
   "source": [
    "# Create a dictionary storing the simulated distribution of projects across countries i.e. the in-degree of \n",
    "# target nodes\n",
    "\n",
    "sim_dist = {'_'.join(f):{s:{t:{k:[B_sim['_'.join(f)][s][t][k].in_degree[n] for n in target_nodes[s][t]] \\\n",
    "for k in range(N_sim)}  for t,t_range in enumerate(t_ranges)} for s in sectors} for f in test_features}"
   ]
  },
  {
   "cell_type": "markdown",
   "metadata": {},
   "source": [
    "## MODEL EVALUATION"
   ]
  },
  {
   "cell_type": "code",
   "execution_count": 60,
   "metadata": {
    "scrolled": true
   },
   "outputs": [],
   "source": [
    "# Create dataframes with model results and evaluation statistics (p-value, p and model accuracy score, r)\n",
    "# and store in an array\n",
    "eval_array = [[[],[]],[[],[]]]\n",
    "\n",
    "for i,s in enumerate(sectors):\n",
    "    for t,t_range in enumerate(t_ranges):\n",
    "        N_obs, b, b_std, p, r, logL = [], [], [], [], [], []\n",
    "        for f in test_features:\n",
    "            df_keys = ['Country','Year'] + f\n",
    "            \n",
    "            # Calculate number of observations for each model, parameter estimate and estimate std\n",
    "            # from inverse Hessian of loglikelihood function\n",
    "            N_obs.append(len(log_st[s][t]))\n",
    "            b.append(res['_'.join(f)][s][t].x[0])\n",
    "            b_std.append(np.sqrt(np.diag(res['_'.join(f)][s][t].hess_inv.todense())[0])) \n",
    "            \n",
    "            # Calculate p-value using Wald's likelihood ratio test\n",
    "            L0 = mf.logL([0],log_st[s][t], target_nodes[s][t], features[df_keys],f)\n",
    "            LM = mf.logL(res['_'.join(f)][s][t].x, log_st[s][t], target_nodes[s][t], features[df_keys],f)\n",
    "            df = (len(target_nodes[s][i])-1) # degrees of freedom\n",
    "            p.append(mf.X2_p(L0,LM,df))\n",
    "            logL.append(LM)\n",
    "            \n",
    "            # Calculate model accuracy score using Spearman's correlation coefficient between \n",
    "            # the simulated and empirical in-degree distribution of target nodes\n",
    "            r.append(np.mean([spearmanr(sim_dist['_'.join(f)][s][t][k], true_dist[s][t])[0] \\\n",
    "                              for k in range(N_sim)]))\n",
    "        df = pd.DataFrame([b,b_std,p,r,N_obs,logL],\\\n",
    "                                   columns=['_'.join(f) for f in test_features],index=['b','b std','p-value',\\\n",
    "            'r','N_obs','LogL'])\n",
    "        eval_array[i][t]=df.copy()"
   ]
  },
  {
   "cell_type": "code",
   "execution_count": 61,
   "metadata": {
    "scrolled": false
   },
   "outputs": [
    {
     "data": {
      "text/html": [
       "<div>\n",
       "<style scoped>\n",
       "    .dataframe tbody tr th:only-of-type {\n",
       "        vertical-align: middle;\n",
       "    }\n",
       "\n",
       "    .dataframe tbody tr th {\n",
       "        vertical-align: top;\n",
       "    }\n",
       "\n",
       "    .dataframe thead th {\n",
       "        text-align: right;\n",
       "    }\n",
       "</style>\n",
       "<table border=\"1\" class=\"dataframe\">\n",
       "  <thead>\n",
       "    <tr style=\"text-align: right;\">\n",
       "      <th></th>\n",
       "      <th>EF</th>\n",
       "      <th>Elec Access</th>\n",
       "      <th>RISE</th>\n",
       "      <th>ND Vuln</th>\n",
       "      <th>EDB</th>\n",
       "      <th>LogCap Pub</th>\n",
       "      <th>LogCap Pri</th>\n",
       "      <th>LogCap Tot</th>\n",
       "    </tr>\n",
       "  </thead>\n",
       "  <tbody>\n",
       "    <tr>\n",
       "      <th>b</th>\n",
       "      <td>-0.196507</td>\n",
       "      <td>0.082524</td>\n",
       "      <td>-0.226168</td>\n",
       "      <td>0.025315</td>\n",
       "      <td>-0.489116</td>\n",
       "      <td>0.004530</td>\n",
       "      <td>-0.022387</td>\n",
       "      <td>-0.012926</td>\n",
       "    </tr>\n",
       "    <tr>\n",
       "      <th>b std</th>\n",
       "      <td>0.292301</td>\n",
       "      <td>0.182889</td>\n",
       "      <td>0.282332</td>\n",
       "      <td>0.257254</td>\n",
       "      <td>0.316573</td>\n",
       "      <td>0.024396</td>\n",
       "      <td>0.023773</td>\n",
       "      <td>0.022955</td>\n",
       "    </tr>\n",
       "    <tr>\n",
       "      <th>p-value</th>\n",
       "      <td>1.000000</td>\n",
       "      <td>1.000000</td>\n",
       "      <td>1.000000</td>\n",
       "      <td>1.000000</td>\n",
       "      <td>1.000000</td>\n",
       "      <td>1.000000</td>\n",
       "      <td>1.000000</td>\n",
       "      <td>1.000000</td>\n",
       "    </tr>\n",
       "    <tr>\n",
       "      <th>r</th>\n",
       "      <td>0.022713</td>\n",
       "      <td>0.027436</td>\n",
       "      <td>-0.004920</td>\n",
       "      <td>0.015881</td>\n",
       "      <td>0.044985</td>\n",
       "      <td>-0.007659</td>\n",
       "      <td>0.008265</td>\n",
       "      <td>0.047165</td>\n",
       "    </tr>\n",
       "    <tr>\n",
       "      <th>N_obs</th>\n",
       "      <td>284.000000</td>\n",
       "      <td>284.000000</td>\n",
       "      <td>284.000000</td>\n",
       "      <td>284.000000</td>\n",
       "      <td>284.000000</td>\n",
       "      <td>284.000000</td>\n",
       "      <td>284.000000</td>\n",
       "      <td>284.000000</td>\n",
       "    </tr>\n",
       "    <tr>\n",
       "      <th>LogL</th>\n",
       "      <td>-1180.891896</td>\n",
       "      <td>-1181.020022</td>\n",
       "      <td>-1180.799994</td>\n",
       "      <td>-1181.117972</td>\n",
       "      <td>-1179.954196</td>\n",
       "      <td>-1181.105594</td>\n",
       "      <td>-1180.675620</td>\n",
       "      <td>-1180.963368</td>\n",
       "    </tr>\n",
       "  </tbody>\n",
       "</table>\n",
       "</div>"
      ],
      "text/plain": [
       "                  EF  Elec Access         RISE      ND Vuln          EDB  \\\n",
       "b          -0.196507     0.082524    -0.226168     0.025315    -0.489116   \n",
       "b std       0.292301     0.182889     0.282332     0.257254     0.316573   \n",
       "p-value     1.000000     1.000000     1.000000     1.000000     1.000000   \n",
       "r           0.022713     0.027436    -0.004920     0.015881     0.044985   \n",
       "N_obs     284.000000   284.000000   284.000000   284.000000   284.000000   \n",
       "LogL    -1180.891896 -1181.020022 -1180.799994 -1181.117972 -1179.954196   \n",
       "\n",
       "          LogCap Pub   LogCap Pri   LogCap Tot  \n",
       "b           0.004530    -0.022387    -0.012926  \n",
       "b std       0.024396     0.023773     0.022955  \n",
       "p-value     1.000000     1.000000     1.000000  \n",
       "r          -0.007659     0.008265     0.047165  \n",
       "N_obs     284.000000   284.000000   284.000000  \n",
       "LogL    -1181.105594 -1180.675620 -1180.963368  "
      ]
     },
     "execution_count": 61,
     "metadata": {},
     "output_type": "execute_result"
    }
   ],
   "source": [
    "eval_array[0][1]"
   ]
  }
 ],
 "metadata": {
  "kernelspec": {
   "display_name": "Python 3",
   "language": "python",
   "name": "python3"
  },
  "language_info": {
   "codemirror_mode": {
    "name": "ipython",
    "version": 3
   },
   "file_extension": ".py",
   "mimetype": "text/x-python",
   "name": "python",
   "nbconvert_exporter": "python",
   "pygments_lexer": "ipython3",
   "version": "3.7.3"
  }
 },
 "nbformat": 4,
 "nbformat_minor": 4
}
